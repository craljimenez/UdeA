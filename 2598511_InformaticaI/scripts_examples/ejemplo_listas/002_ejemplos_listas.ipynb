{
 "cells": [
  {
   "cell_type": "code",
   "execution_count": 7,
   "id": "91a7b496",
   "metadata": {},
   "outputs": [
    {
     "name": "stdout",
     "output_type": "stream",
     "text": [
      "\t - Asi va la lista:  ['Rojo']\n",
      "\t - Asi va la lista:  ['Rojo', 'Rojo']\n",
      "\t - Asi va la lista:  ['Rojo', 'Rojo', 'Azul']\n",
      "\t - Asi va la lista:  ['Rojo', 'Rojo', 'Azul', 'Morado']\n",
      "\n",
      "Los colores ingresados fueron: ['Rojo', 'Rojo', 'Azul', 'Morado']\n"
     ]
    }
   ],
   "source": [
    "from time import sleep\n",
    "colores = [] # ó colores = list() # Inicializamos una lista en blanco, sin elementos.\n",
    "\n",
    "# agregando colores\n",
    "for i in range(4):\n",
    "    new_color = input(f\"Ingrese el nombre del {i+1}-iesimo color:\")\n",
    "    colores.append(new_color)\n",
    "    print(\"\\t - Asi va la lista: \",colores)\n",
    "    # sleep(10) # pausa el código por 10 seg\n",
    "print(\"\\nLos colores ingresados fueron:\",colores)\n"
   ]
  },
  {
   "cell_type": "code",
   "execution_count": 8,
   "id": "ee33cbc6",
   "metadata": {},
   "outputs": [
    {
     "name": "stdout",
     "output_type": "stream",
     "text": [
      "Imprimiendo la lista colores: ['Rojo', 'Rojo', 'Fucsia', 'Azul', 'Morado']\n"
     ]
    }
   ],
   "source": [
    "i = int(input(f\"Ingrese posición en donde ingresar el nuevo elemento (0-{len(colores)-1}):\"))\n",
    "new_color = input(\"Ingresé el nuevo color a insertar:\")\n",
    "\n",
    "colores.insert(i,new_color) # Insertamos el elemento new_color en la i-ésima posición.\n",
    "\n",
    "print(\"Imprimiendo la lista colores:\",colores)"
   ]
  },
  {
   "cell_type": "code",
   "execution_count": 9,
   "id": "1fbe2327",
   "metadata": {},
   "outputs": [
    {
     "name": "stdout",
     "output_type": "stream",
     "text": [
      "colores: ['Rojo', 'Fucsia', 'Azul', 'Morado']\n"
     ]
    }
   ],
   "source": [
    "colores.remove(\"Rojo\")\n",
    "print(\"colores:\",colores)"
   ]
  },
  {
   "cell_type": "code",
   "execution_count": null,
   "id": "09af7515",
   "metadata": {},
   "outputs": [],
   "source": []
  },
  {
   "cell_type": "code",
   "execution_count": 12,
   "id": "d436bf61",
   "metadata": {},
   "outputs": [
    {
     "data": {
      "text/plain": [
       "3"
      ]
     },
     "execution_count": 12,
     "metadata": {},
     "output_type": "execute_result"
    }
   ],
   "source": [
    "colores.append(\"Rojo\")\n",
    "colores.count(\"Rojo\")"
   ]
  },
  {
   "cell_type": "code",
   "execution_count": 13,
   "id": "05488faa",
   "metadata": {},
   "outputs": [
    {
     "name": "stdout",
     "output_type": "stream",
     "text": [
      "['Rojo', 'Fucsia', 'Azul', 'Morado', 'Rojo', 'Rojo']\n"
     ]
    }
   ],
   "source": [
    "print(colores)"
   ]
  },
  {
   "cell_type": "code",
   "execution_count": 15,
   "id": "6eb574bc",
   "metadata": {},
   "outputs": [
    {
     "name": "stdout",
     "output_type": "stream",
     "text": [
      "['Azul', 'Fucsia', 'Morado', 'Rojo', 'Rojo', 'Rojo']\n"
     ]
    }
   ],
   "source": [
    "colores.sort()\n",
    "print(colores)"
   ]
  },
  {
   "cell_type": "code",
   "execution_count": 16,
   "id": "d7ef25c7",
   "metadata": {},
   "outputs": [
    {
     "name": "stdout",
     "output_type": "stream",
     "text": [
      "['Rojo', 'Rojo', 'Rojo', 'Morado', 'Fucsia', 'Azul']\n"
     ]
    }
   ],
   "source": [
    "colores.reverse()\n",
    "print(colores)"
   ]
  },
  {
   "cell_type": "code",
   "execution_count": 17,
   "id": "b6af1470",
   "metadata": {},
   "outputs": [
    {
     "ename": "TypeError",
     "evalue": "'str' object does not support item assignment",
     "output_type": "error",
     "traceback": [
      "\u001b[31m---------------------------------------------------------------------------\u001b[39m",
      "\u001b[31mTypeError\u001b[39m                                 Traceback (most recent call last)",
      "\u001b[36mCell\u001b[39m\u001b[36m \u001b[39m\u001b[32mIn[17]\u001b[39m\u001b[32m, line 2\u001b[39m\n\u001b[32m      1\u001b[39m s = \u001b[33m\"\u001b[39m\u001b[33mHola\u001b[39m\u001b[33m\"\u001b[39m\n\u001b[32m----> \u001b[39m\u001b[32m2\u001b[39m \u001b[43ms\u001b[49m\u001b[43m[\u001b[49m\u001b[32;43m0\u001b[39;49m\u001b[43m]\u001b[49m = \u001b[33m\"\u001b[39m\u001b[33mh\u001b[39m\u001b[33m\"\u001b[39m \n",
      "\u001b[31mTypeError\u001b[39m: 'str' object does not support item assignment"
     ]
    }
   ],
   "source": [
    "s = \"Hola\"\n",
    "s[0] = \"h\" "
   ]
  },
  {
   "cell_type": "code",
   "execution_count": 19,
   "id": "6f042e7f",
   "metadata": {},
   "outputs": [
    {
     "name": "stdout",
     "output_type": "stream",
     "text": [
      "['Rojo', 'Rojo', 'Rojo', 'Morado', 'Fucsia', 'Azul']\n",
      "colores luego de reasignar uno de sus elemntos: ['Blanco', 'Rojo', 'Rojo', 'Morado', 'Fucsia', 'Azul']\n"
     ]
    }
   ],
   "source": [
    "print(colores)\n",
    "colores[0] = \"Blanco\"\n",
    "print(\"colores luego de reasignar uno de sus elemntos:\",colores)"
   ]
  }
 ],
 "metadata": {
  "kernelspec": {
   "display_name": "Python 3",
   "language": "python",
   "name": "python3"
  },
  "language_info": {
   "codemirror_mode": {
    "name": "ipython",
    "version": 3
   },
   "file_extension": ".py",
   "mimetype": "text/x-python",
   "name": "python",
   "nbconvert_exporter": "python",
   "pygments_lexer": "ipython3",
   "version": "3.11.0"
  }
 },
 "nbformat": 4,
 "nbformat_minor": 5
}
